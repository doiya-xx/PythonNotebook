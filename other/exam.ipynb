{
 "cells": [
  {
   "cell_type": "code",
   "execution_count": 1,
   "metadata": {
    "collapsed": true
   },
   "outputs": [],
   "source": [
    "import math\n",
    "import numpy as np\n",
    "import matplotlib.pyplot as plt\n",
    "import scipy as sp\n",
    "from scipy.integrate import simps\n",
    "%matplotlib inline"
   ]
  },
  {
   "cell_type": "markdown",
   "source": [
    "## 2.1 question 1"
   ],
   "metadata": {
    "collapsed": false,
    "pycharm": {
     "name": "#%% md\n"
    }
   }
  },
  {
   "cell_type": "code",
   "execution_count": 2,
   "outputs": [
    {
     "name": "stdout",
     "output_type": "stream",
     "text": [
      "(('o', 'l', 'w', 'm'), (8, 2, 1, 1))\n",
      "(' ', 29)\n",
      "('e', 10)\n",
      "('u', 9)\n",
      "('o', 9)\n",
      "('i', 7)\n",
      "('t', 4)\n",
      "('r', 4)\n",
      "('h', 4)\n",
      "('z', 3)\n",
      "('y', 3)\n",
      "('x', 3)\n",
      "('w', 3)\n",
      "('v', 3)\n",
      "('s', 3)\n",
      "('q', 3)\n",
      "('p', 3)\n",
      "('n', 3)\n",
      "('m', 3)\n",
      "('l', 3)\n",
      "('k', 3)\n",
      "('j', 3)\n",
      "('g', 3)\n",
      "('f', 3)\n",
      "('d', 3)\n",
      "('c', 3)\n",
      "('b', 3)\n",
      "('a', 3)\n",
      "(':', 3)\n",
      "('.', 3)\n",
      "('3', 1)\n",
      "('2', 1)\n",
      "('1', 1)\n"
     ]
    }
   ],
   "source": [
    "def character_frequencies(s):\n",
    "    char_num_d = dict()\n",
    "    \n",
    "    for ch in s:\n",
    "        ch1 = ch\n",
    "        if (ch1 >= 'A' and ch1 <= 'Z'):\n",
    "            ch1 = chr(ord(ch1) + 32)\n",
    "        char_num_d[ch1] = char_num_d.get(ch1, 0) + 1\n",
    "    \n",
    "    item_list = list(char_num_d.items())\n",
    "    item_list.sort(key = lambda x : (x[1], x[0]), reverse = True)\n",
    "    \n",
    "    alist = list()\n",
    "    blist = list()\n",
    "    for item in item_list:\n",
    "        alist.append(item[0])\n",
    "        blist.append(item[1])\n",
    "    \n",
    "    alist = tuple(alist)\n",
    "    blist = tuple(blist)\n",
    "    \n",
    "    return (alist, blist)\n",
    "\n",
    "\n",
    "print(character_frequencies('Wooloomooloo'))\n",
    "\n",
    "s1 = '1: The quick brown fox jumps over the lazy dog. '\n",
    "s2 = '2: Pack my box with five dozen liquor jugs. '\n",
    "s3 = '3: Portez ce vieux whisky au juge blond qui fume. '\n",
    "T=character_frequencies(s1+s2+s3)\n",
    "for i,c in enumerate(T[0]):\n",
    "    print((c,T[1][i]))"
   ],
   "metadata": {
    "collapsed": false,
    "pycharm": {
     "name": "#%%\n"
    }
   }
  },
  {
   "cell_type": "markdown",
   "source": [
    "## 2.2 question 2"
   ],
   "metadata": {
    "collapsed": false,
    "pycharm": {
     "name": "#%% md\n"
    }
   }
  },
  {
   "cell_type": "code",
   "execution_count": 3,
   "outputs": [
    {
     "name": "stdout",
     "output_type": "stream",
     "text": [
      "0.12607845635152684\n",
      "0.06865802224536889\n"
     ]
    }
   ],
   "source": [
    "def entropy(s0,s1,alphabet='abcdefghijklmnopqrstuvwxyz'):\n",
    "    s0_item = character_frequencies(s0)\n",
    "    s1_item = character_frequencies(s1)\n",
    "    # print(s0_item)\n",
    "    # print(s1_item)\n",
    "\n",
    "    s0_d = dict()\n",
    "    s1_d = dict()\n",
    "\n",
    "    for i in range(len(s0_item[0])):\n",
    "        key = s0_item[0][i]\n",
    "        value = s0_item[1][i]\n",
    "        s0_d[key] = value\n",
    "    # print(s0_d)\n",
    "\n",
    "    for i in range(len(s1_item[0])):\n",
    "        key = s1_item[0][i]\n",
    "        value = s1_item[1][i]\n",
    "        s1_d[key] = value\n",
    "    # print(s1_d)\n",
    "\n",
    "    sum0 = 0\n",
    "    sum1 = 0\n",
    "    for ch in alphabet:\n",
    "        sum0 += s0_d.get(ch, 0)\n",
    "        sum1 += s1_d.get(ch, 0)\n",
    "\n",
    "    relative_entropy = 0\n",
    "    for ch in alphabet:\n",
    "        f = s0_d.get(ch, 0) / sum0\n",
    "        g = s1_d.get(ch, 0) / sum1\n",
    "        if (f == 0):\n",
    "            continue\n",
    "        relative_entropy += f * np.log(f / g)\n",
    "\n",
    "    return relative_entropy\n",
    "\n",
    "s0 = 'The quick brown fox jumps over the lazy dog.'\n",
    "s1 = 'Pack my box with five dozen liquor jugs.'\n",
    "s2 = 'Portez ce vieux whisky au juge blond qui fume.'\n",
    "print(entropy(s0,s2))\n",
    "print(entropy(s1,s2))"
   ],
   "metadata": {
    "collapsed": false,
    "pycharm": {
     "name": "#%%\n"
    }
   }
  },
  {
   "cell_type": "markdown",
   "source": [
    "## 2.3 question 3"
   ],
   "metadata": {
    "collapsed": false,
    "pycharm": {
     "name": "#%% md\n"
    }
   }
  },
  {
   "cell_type": "code",
   "execution_count": 4,
   "outputs": [
    {
     "name": "stdout",
     "output_type": "stream",
     "text": [
      "55\n",
      "165\n"
     ]
    },
    {
     "data": {
      "text/plain": "('RED', 'RED', 'RED')"
     },
     "execution_count": 4,
     "metadata": {},
     "output_type": "execute_result"
    }
   ],
   "source": [
    "def price(widget,r,y,b):\n",
    "    total_price = 0\n",
    "\n",
    "    if type(widget) != tuple:\n",
    "        if widget == 'RED':\n",
    "            return r\n",
    "        elif widget == 'YELLOW':\n",
    "            return y\n",
    "        else:\n",
    "            return b\n",
    "\n",
    "    for item in widget:\n",
    "        total_price += price(item, r, y, b)\n",
    "\n",
    "    return total_price\n",
    "\n",
    "\n",
    "red = ('RED',)\n",
    "yellow = ('YELLOW',)\n",
    "blue = ('BLUE',)\n",
    "\n",
    "purple = (red,blue)\n",
    "green = (yellow,blue)\n",
    "orange = (red,yellow)\n",
    "white = (3*red,3*orange,3*yellow,3*green,4*blue,2*purple)\n",
    "pink = (white,red)\n",
    "black = (pink,purple)\n",
    "grey = (black,white)\n",
    "joker = (purple,green)\n",
    "sulfur = (white,yellow)\n",
    "galah = (pink,grey)\n",
    "\n",
    "print(price(sulfur,1,2,3))\n",
    "print(price(galah,1,2,3))\n",
    "3*red"
   ],
   "metadata": {
    "collapsed": false,
    "pycharm": {
     "name": "#%%\n"
    }
   }
  },
  {
   "cell_type": "markdown",
   "source": [
    "## 2.4 question 4"
   ],
   "metadata": {
    "collapsed": false,
    "pycharm": {
     "name": "#%% md\n"
    }
   }
  },
  {
   "cell_type": "code",
   "execution_count": 5,
   "outputs": [
    {
     "name": "stdout",
     "output_type": "stream",
     "text": [
      "(1, 0, 1)\n",
      "(1, 1, 2)\n",
      "(27, 27, 28)\n"
     ]
    }
   ],
   "source": [
    "def constituents(widget):\n",
    "    total_num = (0,0,0)\n",
    "\n",
    "    if type(widget) != tuple:\n",
    "        if widget == 'RED':\n",
    "            return 1, 0, 0\n",
    "        elif widget == 'YELLOW':\n",
    "            return 0, 1, 0\n",
    "        else:\n",
    "            return 0, 0, 1\n",
    "\n",
    "    for item in widget:\n",
    "        temp = constituents(item)\n",
    "        total_num = (total_num[0] + temp[0],total_num[1] + temp[1],total_num[2] + temp[2])\n",
    "\n",
    "    return total_num\n",
    "\n",
    "\n",
    "print(constituents(purple))\n",
    "print(constituents(joker))\n",
    "print(constituents(galah))"
   ],
   "metadata": {
    "collapsed": false,
    "pycharm": {
     "name": "#%%\n"
    }
   }
  },
  {
   "cell_type": "markdown",
   "source": [
    "## 2.5 question 5"
   ],
   "metadata": {
    "collapsed": false,
    "pycharm": {
     "name": "#%% md\n"
    }
   }
  },
  {
   "cell_type": "code",
   "execution_count": 6,
   "outputs": [
    {
     "name": "stdout",
     "output_type": "stream",
     "text": [
      "[[ 1.          1.        ]\n",
      " [ 0.         -4.        ]\n",
      " [-0.5         3.5       ]\n",
      " [-0.66666667  2.66666667]\n",
      " [-0.625      -1.29166667]\n",
      " [-0.46666667 -3.16666667]] \n",
      "\n",
      " [[ 0.          0.        ]\n",
      " [ 1.          1.        ]\n",
      " [ 1.         -3.        ]\n",
      " [ 0.5         0.5       ]\n",
      " [-0.16666667  3.16666667]\n",
      " [-0.79166667  1.875     ]]\n"
     ]
    }
   ],
   "source": [
    "def Laguerre(N,x):\n",
    "    x_num = x.shape[0]\n",
    "    L_array = np.zeros((N + 1, x_num))\n",
    "    Q_array = np.zeros((N + 1, x_num))\n",
    "\n",
    "    for i in range(x_num):\n",
    "        L_array[0][i] = 1\n",
    "        L_array[1][i] = (2*0+1-x[i]) * L_array[0][i] / (0+1) - 0 / (0+1) * 0\n",
    "\n",
    "        for n in range(1, N):\n",
    "            L_array[n+1][i] = (2*n+1-x[i]) * L_array[n][i] / (n+1) - n / (n+1) * L_array[n-1][i]\n",
    "\n",
    "    for i in range(x_num):\n",
    "        Q_array[0][i] = 0\n",
    "        Q_array[1][i] = 1\n",
    "\n",
    "        for n in range(1, N):\n",
    "            Q_array[n+1][i] = L_array[n][i] + Q_array[n][i]\n",
    "\n",
    "    return (L_array, Q_array)\n",
    "\n",
    "\n",
    "L,Q = Laguerre(5,np.array([1,5]))\n",
    "print(L,'\\n\\n',Q)"
   ],
   "metadata": {
    "collapsed": false,
    "pycharm": {
     "name": "#%%\n"
    }
   }
  },
  {
   "cell_type": "markdown",
   "source": [
    "## 2.6 question 6"
   ],
   "metadata": {
    "collapsed": false,
    "pycharm": {
     "name": "#%% md\n"
    }
   }
  },
  {
   "cell_type": "code",
   "execution_count": 7,
   "outputs": [
    {
     "name": "stdout",
     "output_type": "stream",
     "text": [
      "True\n",
      "[ 0.13779347  0.72945455  1.8083429   3.4014337   5.55249614  8.33015275\n",
      " 11.84378584 16.27925783 21.99658581 29.92069701]\n"
     ]
    }
   ],
   "source": [
    "def roots(N):\n",
    "    A = np.zeros((N, N))\n",
    "    A[0][0] = 1\n",
    "    A[0][1] = -1\n",
    "\n",
    "    for n in range(1, N):\n",
    "        A[n][n-1] = -1 * n\n",
    "        A[n][n] = 2 * n + 1\n",
    "        if (n + 1 < N):\n",
    "            A[n][n + 1] = -1 * (n + 1)\n",
    "    #print(A)\n",
    "    a, b = np.linalg.eig(A)\n",
    "\n",
    "    return a\n",
    "\n",
    "n = 10\n",
    "print(roots(n)[-1] < 4*n+2)\n",
    "print(roots(n))"
   ],
   "metadata": {
    "collapsed": false,
    "pycharm": {
     "name": "#%%\n"
    }
   }
  },
  {
   "cell_type": "markdown",
   "source": [
    "## 2.7 question 7"
   ],
   "metadata": {
    "collapsed": false,
    "pycharm": {
     "name": "#%% md\n"
    }
   }
  },
  {
   "cell_type": "code",
   "execution_count": 8,
   "outputs": [
    {
     "name": "stdout",
     "output_type": "stream",
     "text": [
      "3.106181978296263e-12\n"
     ]
    }
   ],
   "source": [
    "def orthogonal_functions(N):\n",
    "    x = roots(N)\n",
    "    L, Q = Laguerre(N, x)\n",
    "\n",
    "    ei = list()\n",
    "    for i in range(len(x)):\n",
    "        temp = 1 / (np.sqrt(x[i]) * np.abs(Q[N][i]))\n",
    "        ei.append(temp)\n",
    "    ei = np.array(ei)\n",
    "\n",
    "    L1 = np.delete(L, N, axis = 0)\n",
    "    F = L1 * ei\n",
    "\n",
    "    return x, F\n",
    "\n",
    "x,f = orthogonal_functions(300)\n",
    "print(np.max(np.abs(f@f.T-np.eye(len(x)))))"
   ],
   "metadata": {
    "collapsed": false,
    "pycharm": {
     "name": "#%%\n"
    }
   }
  },
  {
   "cell_type": "code",
   "execution_count": 9,
   "outputs": [
    {
     "name": "stdout",
     "output_type": "stream",
     "text": [
      "3.106181978296263e-12\n"
     ]
    }
   ],
   "source": [
    "\n",
    "def orthogonal_functions(N):\n",
    "    x = roots(N)\n",
    "    f,q = Laguerre(N,x)\n",
    "    f_tem = f[:-1,:]\n",
    "    f_final = np.zeros((N,N))\n",
    "    for i in range(N):\n",
    "        e = 1/(math.sqrt(x[i])*abs(q[-1,i]))\n",
    "        f_final[:,i] = f_tem[:,i]*e\n",
    "    return x,f_final\n",
    "\n",
    "x,f = orthogonal_functions(300)\n",
    "print(np.max(np.abs(f@f.T-np.eye(len(x)))))"
   ],
   "metadata": {
    "collapsed": false,
    "pycharm": {
     "name": "#%%\n"
    }
   }
  },
  {
   "cell_type": "markdown",
   "source": [
    "## 2.8 question 8"
   ],
   "metadata": {
    "collapsed": false,
    "pycharm": {
     "name": "#%% md\n"
    }
   }
  },
  {
   "cell_type": "code",
   "execution_count": 10,
   "outputs": [
    {
     "name": "stdout",
     "output_type": "stream",
     "text": [
      "1\n"
     ]
    }
   ],
   "source": [
    "def replacements(n):\n",
    "    #1->red, 2->green\n",
    "    box_list = ['r'] + ['g']*n\n",
    "    counter = 0\n",
    "\n",
    "    while True:\n",
    "        random_index = np.random.randint(0, len(box_list))\n",
    "        if box_list[random_index] == 'r':\n",
    "            break\n",
    "        box_list = ['r','r'] + box_list\n",
    "        box_list.pop(-1)\n",
    "        counter += 1\n",
    "        #print(box_list)\n",
    "        if counter == n:\n",
    "            break\n",
    "    return counter\n",
    "\n",
    "\n",
    "print(replacements(50))"
   ],
   "metadata": {
    "collapsed": false,
    "pycharm": {
     "name": "#%%\n"
    }
   }
  },
  {
   "cell_type": "markdown",
   "source": [
    "## 2.9 question 9"
   ],
   "metadata": {
    "collapsed": false,
    "pycharm": {
     "name": "#%% md\n"
    }
   }
  },
  {
   "cell_type": "code",
   "execution_count": 11,
   "outputs": [
    {
     "name": "stdout",
     "output_type": "stream",
     "text": [
      "3.9804 0.1953 0.0129\n",
      "4.0208 0.2005 0.0158\n",
      "4.0196 0.1988 0.0138\n",
      "4.0254 0.1992 0.0138\n",
      "4.0528 0.1999 0.0144\n",
      "4.0486 0.1977 0.0144\n",
      "4.0244 0.1986 0.0168\n",
      "4.0314 0.2012 0.0134\n",
      "4.0282 0.2010 0.0133\n"
     ]
    }
   ],
   "source": [
    "def replacements_distribution(n,T):\n",
    "    P_list = [0] * (n + 1)\n",
    "\n",
    "    for i in range(T):\n",
    "        k = replacements(n)\n",
    "        P_list[k] += 1\n",
    "\n",
    "    for i in range(len(P_list)):\n",
    "        P_list[i] = P_list[i] / T\n",
    "\n",
    "    return P_list\n",
    "\n",
    "\n",
    "n = 4\n",
    "k = np.arange(n+1)\n",
    "for _ in range(9):\n",
    "    P = replacements_distribution(n,10**4)\n",
    "    print(f'{np.sum(k*(k+1)*P):.4f} {P[0]:.4f} {P[-1]:.4f}')"
   ],
   "metadata": {
    "collapsed": false,
    "pycharm": {
     "name": "#%%\n"
    }
   }
  },
  {
   "cell_type": "markdown",
   "source": [
    "## 2.10 question 10"
   ],
   "metadata": {
    "collapsed": false,
    "pycharm": {
     "name": "#%% md\n"
    }
   }
  },
  {
   "cell_type": "code",
   "execution_count": 12,
   "outputs": [
    {
     "name": "stdout",
     "output_type": "stream",
     "text": [
      "3.708149354602744\n",
      " 2: 8.41e-02\n",
      " 3: 1.17e-02\n",
      " 4: 1.77e-03\n",
      " 5: 2.73e-04\n",
      " 6: 4.30e-05\n",
      " 7: 6.84e-06\n",
      " 8: 1.10e-06\n",
      " 9: 1.78e-07\n",
      "10: 2.91e-08\n",
      "11: 4.76e-09\n"
     ]
    }
   ],
   "source": [
    "def K_integral1(n):\n",
    "    f = lambda x : 1/np.sqrt(3-np.cos(x))\n",
    "    a = -1 * np.pi\n",
    "    b = np.pi\n",
    "\n",
    "    x = np.linspace(a, b, n+1)\n",
    "    y = f(x)\n",
    "    y_right = y[1:]\n",
    "    y_left = y[:-1]\n",
    "    dx = (b - a) / n\n",
    "    T = (dx/2) * np.sum(y_right + y_left)\n",
    "\n",
    "    return T\n",
    "\n",
    "print(K_integral1(50))\n",
    "\n",
    "for n in range(2,12):\n",
    "    print('{:>2}: {:>.2e}'.format(n,abs(K_integral1(n)-K_integral1(50))))"
   ],
   "metadata": {
    "collapsed": false,
    "pycharm": {
     "name": "#%%\n"
    }
   }
  },
  {
   "cell_type": "code",
   "execution_count": 13,
   "outputs": [
    {
     "name": "stdout",
     "output_type": "stream",
     "text": [
      "3.708150686132857\n",
      " 2: 5.67e-01\n",
      " 3: 3.01e-01\n",
      " 4: 3.45e-02\n",
      " 5: 2.57e-02\n",
      " 6: 1.01e-02\n",
      " 7: 3.96e-03\n",
      " 8: 3.77e-03\n",
      " 9: 5.99e-04\n",
      "10: 1.77e-03\n",
      "11: 8.01e-05\n"
     ]
    }
   ],
   "source": [
    "def K_integral(n):\n",
    "    f = lambda x : 1/np.sqrt(3-np.cos(x))\n",
    "    a = -1 * np.pi\n",
    "    b = np.pi\n",
    "\n",
    "    x = np.linspace(a, b, n)\n",
    "    y = f(x)\n",
    "    T = simps(y,x)\n",
    "\n",
    "    return T\n",
    "\n",
    "print(K_integral(100))\n",
    "\n",
    "for n in range(2,12):\n",
    "    print('{:>2}: {:>.2e}'.format(n,abs(K_integral(n)-K_integral(50))))"
   ],
   "metadata": {
    "collapsed": false,
    "pycharm": {
     "name": "#%%\n"
    }
   }
  },
  {
   "cell_type": "markdown",
   "source": [
    "## 2.11 question 11"
   ],
   "metadata": {
    "collapsed": false,
    "pycharm": {
     "name": "#%% md\n"
    }
   }
  },
  {
   "cell_type": "code",
   "execution_count": 14,
   "outputs": [
    {
     "data": {
      "text/plain": "<Figure size 432x288 with 1 Axes>",
      "image/png": "[encoded data removed]"
     },
     "metadata": {
      "needs_background": "light"
     },
     "output_type": "display_data"
    }
   ],
   "source": [
    "def NLBVP(p,guess,iterations):\n",
    "    \"\"\"Solve u''(x) + u(x)**p = 0 with u(0) = u(1) = 0 using 2nd-order accurate␣\n",
    "    ,→finite-differences.\n",
    "    Parameters\n",
    "    ----------\n",
    "    p: positive exponent parameter.\n",
    "    guess: numpy array with the inital guess for Newton's method.\n",
    "    iterations: integer number of Newton iterations.\n",
    "    \"\"\"\n",
    "    n = len(guess)\n",
    "    ### PUT YOUR CODE BELOW THIS LINE ###\n",
    "    A=np.zeros([n,n])\n",
    "    A[2:,:-2]=-np.eye(n-2)\n",
    "    A=A+A.T + 2*np.eye(n)\n",
    "    A=-A/4*n**2\n",
    "    A[0,2]=0\n",
    "    A[-1,-3]=0\n",
    "    print(A)\n",
    "    guess=guess.reshape(n,1)\n",
    "    for i in range(iterations):\n",
    "        #guess[0,0]=0\n",
    "        #guess[-1,0]=0\n",
    "        guess=guess-np.linalg.inv(A+p*guess**(p-1))@(A@guess+guess**p)\n",
    "    return guess\n",
    "\n",
    "n = 100\n",
    "x = np.linspace(0,1,n)\n",
    "u = np.pi*np.sin(np.pi*x)\n",
    "# u = NLBVP(3,u,10)\n",
    "\n",
    "\n",
    "plt.plot(x,u,linewidth=3)\n",
    "plt.plot(x,K_integral(10) + 0*x,linewidth=3)\n",
    "plt.xlabel('x',fontsize=16)\n",
    "plt.ylabel('u(x)',fontsize=16);\n",
    "plt.tick_params(axis='both',labelsize=16)"
   ],
   "metadata": {
    "collapsed": false,
    "pycharm": {
     "name": "#%%\n"
    }
   }
  },
  {
   "cell_type": "code",
   "execution_count": 15,
   "outputs": [],
   "source": [
    "def NLBVP1(p,guess,iterations):\n",
    "\n",
    "    n = len(guess)\n",
    "    ### PUT YOUR CODE BELOW THIS LINE ###\n",
    "\n",
    "\n",
    "    return guess\n"
   ],
   "metadata": {
    "collapsed": false,
    "pycharm": {
     "name": "#%%\n"
    }
   }
  },
  {
   "cell_type": "code",
   "execution_count": 16,
   "outputs": [
    {
     "data": {
      "text/plain": "<Figure size 432x288 with 1 Axes>",
      "image/png": "[encoded data removed]"
     },
     "metadata": {
      "needs_background": "light"
     },
     "output_type": "display_data"
    }
   ],
   "source": [
    "# def T(n,x):\n",
    "#     global Tn\n",
    "#     x_len = x.shape[0]\n",
    "#     T0 = np.array([1]*x_len)\n",
    "#     T1 = x\n",
    "#\n",
    "#     if n == 0:\n",
    "#         return T0\n",
    "#     if n == 1:\n",
    "#         return T1\n",
    "#\n",
    "#     for i in range(2, n+1):\n",
    "#         Tn = 2 * x * T1 - T0\n",
    "#         T0 = T1\n",
    "#         T1 = Tn\n",
    "#     Tn = np.reshape(Tn, (x_len, 1))\n",
    "#\n",
    "#     return Tn\n",
    "def T(n,x):\n",
    "\n",
    "    ### PUT YOUR CODE BELOW THIS LINE ##\n",
    "\n",
    "    tem = np.arccos(x)\n",
    "    ans = np.cos(n * tem)\n",
    "\n",
    "    return ans\n",
    "\n",
    "\n",
    "\n",
    "x = np.linspace(-1,1,200)\n",
    "n=10\n",
    "\n",
    "plt.plot(x,T(n,x),linewidth=3)\n",
    "plt.xlabel('x',fontsize=16)\n",
    "plt.ylabel(f'T({n},x)',fontsize=16);\n",
    "plt.tick_params(axis='both',labelsize=16);"
   ],
   "metadata": {
    "collapsed": false,
    "pycharm": {
     "name": "#%%\n"
    }
   }
  },
  {
   "cell_type": "code",
   "execution_count": 17,
   "outputs": [],
   "source": [
    "# def Chebyshev_fit(degree,x,y):\n",
    "#     deg = len(x) - 1\n",
    "#     A = np.polynomial.chebyshev.chebvander(x, deg)\n",
    "#     c_array = np.linalg.solve(A, y)\n",
    "#\n",
    "#     T_array = []\n",
    "#     for i in range(degree + 1):\n",
    "#         t = T(i, x)\n",
    "#         t = np.reshape(t, (1,len(x)))\n",
    "#         t = list(t[0])\n",
    "#         T_array.append(t)\n",
    "#     T_array = np.array(T_array)\n",
    "#\n",
    "#\n",
    "#     c_degree = np.array(list(c_array)[:degree + 1])\n",
    "#     c_degree_t = np.reshape(c_degree, (1, degree + 1))\n",
    "#\n",
    "#     z_array = np.dot(c_degree_t, T_array)\n",
    "#\n",
    "#     z_array = np.reshape(z_array, (len(x),1))\n",
    "#     c_array = np.reshape(c_degree, (degree+1, 1))\n",
    "#\n",
    "#     return c_array, z_array\n",
    "#\n",
    "#\n",
    "# x = np.linspace(-1,1,6)\n",
    "# y = T(3,x)\n",
    "#\n",
    "# c, z = Chebyshev_fit(5,x,y)\n",
    "# c[np.where(np.abs(c) < 1e-15)] = 0\n",
    "# print(c)\n",
    "# print()\n",
    "#\n",
    "#\n",
    "# y = np.sin(3*x) + np.cos(5*x)\n",
    "# c, z = Chebyshev_fit(10,x,y)\n",
    "#\n",
    "# y = np.array(list(y))\n",
    "#\n",
    "# plt.plot(x,y,linewidth=3)\n",
    "# plt.plot(x,z,linewidth=3)\n",
    "#\n",
    "# plt.xlabel('x',fontsize=16)\n",
    "# plt.ylabel('y',fontsize=16)\n",
    "# plt.tick_params(axis='both',labelsize=16)"
   ],
   "metadata": {
    "collapsed": false,
    "pycharm": {
     "name": "#%%\n"
    }
   }
  },
  {
   "cell_type": "code",
   "execution_count": 20,
   "outputs": [],
   "source": [
    "\n",
    "\n",
    "# def test_Chebyshev_fit(degree, x, y):\n",
    "#     # might help\n",
    "#     # k = np.arange(degree + 1)\n",
    "#     # array([0, 1, 2, 3, 4, 5])\n",
    "#     # M = T(k[None,:],x[:,None]) # Broadcasting\n",
    "#     # print(M)\n",
    "#     # L = np.average(M[:,:,None]*M[:,None,:],axis=0)\n",
    "#\n",
    "#     ###\n",
    "#     d = degree + 1\n",
    "#     c = np.ones(shape=(d,))\n",
    "#     print(\"c:\",c)\n",
    "#     z = np.zeros(shape=(d,))\n",
    "#     for n in range(10):\n",
    "#         # 函数P\n",
    "#         P = np.zeros(shape=(d,))\n",
    "#         for k in range(degree+1):\n",
    "#             P += c[k] * (T(k,x).reshape(degree+1,))\n",
    "#         print(\"P:\",P)\n",
    "#         print(\"P - y:\",P - y)\n",
    "#         # 计算误差\n",
    "#         Pi_sub_Yi = np.square(P - y)\n",
    "#         # print(\"Pi_sub_Yi:\",Pi_sub_Yi)\n",
    "#         error = np.sum(np.abs(Pi_sub_Yi))\n",
    "#         print(error)\n",
    "#         if error < 1e-5:\n",
    "#             break\n",
    "#         # 更新 c\n",
    "#         c = np.linalg.inv(np.dot(x.reshape(1,6).T,x.reshape(1,6)))\n",
    "#         print(\"c:\",c)\n",
    "#         z = P\n",
    "#     return c, z\n",
    "#\n",
    "#\n",
    "# x = np.linspace(-1,1,6)\n",
    "# y = T(3,x).reshape(6,)\n",
    "#\n",
    "# c, z = test_Chebyshev_fit(5,x,y)\n",
    "# c[np.where(np.abs(c) < 1e-15)] = 0\n",
    "# print(c)\n",
    "# print()\n",
    "#\n",
    "#\n",
    "# y = np.sin(3*x) + np.cos(5*x)\n",
    "# c, z = Chebyshev_fit(10,x,y)\n",
    "#\n",
    "# y = np.array(list(y))\n",
    "#\n",
    "# plt.plot(x,y,linewidth=3)\n",
    "# plt.plot(x,z,linewidth=3)\n",
    "#\n",
    "# plt.xlabel('x',fontsize=16)\n",
    "# plt.ylabel('y',fontsize=16)\n",
    "# plt.tick_params(axis='both',labelsize=16)"
   ],
   "metadata": {
    "collapsed": false,
    "pycharm": {
     "name": "#%%\n"
    }
   }
  },
  {
   "cell_type": "code",
   "execution_count": 22,
   "outputs": [
    {
     "name": "stdout",
     "output_type": "stream",
     "text": [
      "[0. 0. 0. 1. 0. 0.]\n",
      "\n"
     ]
    },
    {
     "data": {
      "text/plain": "<Figure size 432x288 with 1 Axes>",
      "image/png": "[encoded data removed]"
     },
     "metadata": {
      "needs_background": "light"
     },
     "output_type": "display_data"
    }
   ],
   "source": [
    "def Chebyshev_fit(degree,x,y):\n",
    "    \"\"\"Computes the least-squares Chebyshev polynomial model\n",
    "\n",
    "        z = c[0]*T(0,x) + c[1]*T(1,x) + ... + c[degree]*T(degree,x)\n",
    "\n",
    "        The function returns c, z.\n",
    "\n",
    "    Parameters\n",
    "    ----------\n",
    "    degree: polynomial degree for fitting function.\n",
    "    x: length-n numpy array of grid values\n",
    "    y: length-n numpy array of function values.\n",
    "\n",
    "\n",
    "    \"\"\"\n",
    "    # These might help.\n",
    "    # You can comment them out if you prefer not to use them.\n",
    "\n",
    "    k = np.arange(degree+1)\n",
    "\n",
    "    M = T(k[None,:],x[:,None]) # Broadcasting\n",
    "\n",
    "    L = np.average(M[:,:,None]*M[:,None,:],axis=0)\n",
    "\n",
    "    ### PUT YOUR CODE BELOW THIS LINE ###\n",
    "    A = np.polynomial.chebyshev.chebvander(x,degree)\n",
    "    c = np.linalg.lstsq(A,y,rcond=None)[0]\n",
    "    z = np.zeros(len(x))\n",
    "    for ki in k:\n",
    "        for zi in range(len(x)):\n",
    "            z[zi] = np.sum(c[ki]*M[zi])\n",
    "\n",
    "    return c,z\n",
    "\n",
    "x = np.linspace(-1,1,100)\n",
    "y = T(3,x)\n",
    "\n",
    "c, z = Chebyshev_fit(5,x,y)\n",
    "c[np.where(np.abs(c) < 1e-15)] = 0\n",
    "print(c)\n",
    "print()\n",
    "\n",
    "\n",
    "y = np.sin(3*x) + np.cos(5*x)\n",
    "c, z = Chebyshev_fit(10,x,y)\n",
    "\n",
    "y = np.array(list(y))\n",
    "\n",
    "plt.plot(x,y,linewidth=3)\n",
    "plt.plot(x,z,linewidth=3)\n",
    "\n",
    "plt.xlabel('x',fontsize=16)\n",
    "plt.ylabel('y',fontsize=16)\n",
    "plt.tick_params(axis='both',labelsize=16)"
   ],
   "metadata": {
    "collapsed": false,
    "pycharm": {
     "name": "#%%\n"
    }
   }
  },
  {
   "cell_type": "code",
   "execution_count": null,
   "outputs": [],
   "source": [],
   "metadata": {
    "collapsed": false,
    "pycharm": {
     "name": "#%%\n"
    }
   }
  }
 ],
 "metadata": {
  "kernelspec": {
   "name": "py39kernel",
   "language": "python",
   "display_name": "py39kernel"
  },
  "language_info": {
   "codemirror_mode": {
    "name": "ipython",
    "version": 2
   },
   "file_extension": ".py",
   "mimetype": "text/x-python",
   "name": "python",
   "nbconvert_exporter": "python",
   "pygments_lexer": "ipython2",
   "version": "2.7.6"
  }
 },
 "nbformat": 4,
 "nbformat_minor": 0
}