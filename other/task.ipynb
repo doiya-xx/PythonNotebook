{
 "cells": [
  {
   "cell_type": "code",
   "execution_count": 1,
   "metadata": {
    "collapsed": true
   },
   "outputs": [],
   "source": [
    "import numpy as np\n",
    "import matplotlib.pyplot as plt\n",
    "%matplotlib inline\n",
    "\n",
    "#\n",
    "from scipy.integrate import simps\n",
    "from scipy.integrate import odeint"
   ]
  },
  {
   "cell_type": "code",
   "execution_count": 2,
   "outputs": [
    {
     "name": "stdout",
     "output_type": "stream",
     "text": [
      "[-9 -8 -7 -6 -5 -4 -3 -2 -1  0  1  2  3  4  5  6  7  8  9]\n",
      "0.0\n",
      "[ 0  1  2  3  4  5  6  7  8  9 10 11 12 13 14 15 16 17 18]\n",
      "0.0\n",
      "[  0   1   4   9  16  25  36  49  64  81 100 121 144 169 196 225 256 289\n",
      " 324]\n",
      "1944.0\n"
     ]
    }
   ],
   "source": [
    "# simps\n",
    "y = np.arange(-9,10)\n",
    "print(y)\n",
    "print(simps(y))\n",
    "x = np.arange(y.size)\n",
    "print(x)\n",
    "print(simps(y,x))\n",
    "\n",
    "x = x ** 2\n",
    "print(x)\n",
    "print(simps(x,y))"
   ],
   "metadata": {
    "collapsed": false,
    "pycharm": {
     "name": "#%%\n"
    }
   }
  },
  {
   "cell_type": "code",
   "execution_count": 3,
   "outputs": [
    {
     "name": "stdout",
     "output_type": "stream",
     "text": [
      "[0. 1. 2. 3. 4. 5. 6. 7. 8. 9.]\n",
      "[[ 0.        ]\n",
      " [ 0.50000001]\n",
      " [ 2.00000001]\n",
      " [ 4.50000001]\n",
      " [ 8.00000001]\n",
      " [12.50000001]\n",
      " [18.00000001]\n",
      " [24.50000001]\n",
      " [32.00000001]\n",
      " [40.50000001]]\n"
     ]
    },
    {
     "data": {
      "text/plain": "<Figure size 432x288 with 1 Axes>",
      "image/png": "[encoded data removed]"
     },
     "metadata": {
      "needs_background": "light"
     },
     "output_type": "display_data"
    }
   ],
   "source": [
    "def diff(y, x):\n",
    "    # 在 odeint 里面体现的就是 dy/dx = x\n",
    "    return np.array(x)\n",
    "\n",
    "x = np.linspace(0, 9, 10)  # 给出 x 范围\n",
    "print(x)\n",
    "y = odeint(diff, 0, x)  # 设初值为 0 此时 y 为一个数组，元素为不同 x 对应的 y 值\n",
    "# 也可以直接 y = odeint(lambda y, x: x, 0, x)\n",
    "print(y)\n",
    "plt.plot(x, y[:,0])  # y 数组）矩阵）的第一列，（因为维度相同，plt.plot(x,y)效果相同）\n",
    "plt.grid()\n",
    "plt.show()"
   ],
   "metadata": {
    "collapsed": false,
    "pycharm": {
     "name": "#%%\n"
    }
   }
  },
  {
   "cell_type": "code",
   "execution_count": 4,
   "outputs": [
    {
     "name": "stdout",
     "output_type": "stream",
     "text": [
      "Calling: square(3)\n",
      "Result: 9 \n",
      "\n",
      "Calling: increment(4)\n",
      "Result: 5 \n",
      "\n"
     ]
    }
   ],
   "source": [
    "def square(x):\n",
    "    # 平方\n",
    "    return x * x\n",
    "\n",
    "def increment(x):\n",
    "    # 增加 1\n",
    "    return x + 1\n",
    "\n",
    "def wrapper(x,f):\n",
    "    # 函数嵌套\n",
    "    print(f'Calling: {f.__name__}({x})')\n",
    "    y = f(x)\n",
    "    print(f'Result: {y}','\\n')\n",
    "    return y\n",
    "\n",
    "result = wrapper(3, square)\n",
    "result = wrapper(4, increment)"
   ],
   "metadata": {
    "collapsed": false,
    "pycharm": {
     "name": "#%%\n"
    }
   }
  },
  {
   "cell_type": "code",
   "execution_count": 5,
   "outputs": [
    {
     "name": "stdout",
     "output_type": "stream",
     "text": [
      "Calling: recovery((0.2, 101))\n",
      "Result: 0.40235949932702725 \n",
      "\n",
      "Calling: recovery((array([0.2, 0.3, 0.4]), 1001))\n",
      "Result: [0.66912522 0.56496397 0.48604337] \n",
      "\n"
     ]
    }
   ],
   "source": [
    "def recovery(s, R0, n=101):\n",
    "\n",
    "    if isinstance(s,np.ndarray):\n",
    "        out = np.zeros(shape=s.size)\n",
    "        for i in range(s.size):\n",
    "            x = np.linspace(s[i], 1.0, n)\n",
    "            # 用下面方法生成的 x 的个数虽然和上面的一样，但是上面的以 1.0 为最后一个数，下面的不是。这会导致结果的精度不对\n",
    "            # x = np.arange(s[i], 1.0, (1.0-s[i])/n)\n",
    "            out[i] = simps(1/(x*R0(x)),x)\n",
    "    else:\n",
    "        x = np.linspace(s, 1.0, n)\n",
    "        out = simps(1/(x*R0(x)), x)\n",
    "    return out\n",
    "\n",
    "def print_recovery(s, R0, n=101):\n",
    "    print(f'Calling: {recovery.__name__}({s,n})')\n",
    "    y = recovery(s, R0, n)\n",
    "    print(f'Result: {y}','\\n')\n",
    "\n",
    "def R0_1(s):\n",
    "    return 4 + 0*s\n",
    "\n",
    "def R0_2(s):\n",
    "    return 4*(1-9*(1-s)*s**4)\n",
    "\n",
    "\n",
    "s = 0.2\n",
    "print_recovery(s, R0_1, n=101)\n",
    "s = np.array([0.2,0.3,0.4])\n",
    "print_recovery(s, R0_2, n=1001)"
   ],
   "metadata": {
    "collapsed": false,
    "pycharm": {
     "name": "#%%\n"
    }
   }
  },
  {
   "cell_type": "code",
   "execution_count": 6,
   "outputs": [
    {
     "data": {
      "text/plain": "0.019856516268401594"
     },
     "execution_count": 6,
     "metadata": {},
     "output_type": "execute_result"
    }
   ],
   "source": [
    "def newton(f,df,guss,epsilon,iterations):\n",
    "        xn = guss\n",
    "        for n in range(0,iterations):\n",
    "            fxn = f(xn)\n",
    "            if abs(fxn) < epsilon:\n",
    "                return xn\n",
    "            dfxn = df(xn)\n",
    "            if dfxn==0:\n",
    "                return None\n",
    "            xn = xn - fxn/dfxn\n",
    "        return None\n",
    "\n",
    "def susceptible_final(R0, s_guess, iterations=30, n=101):\n",
    "\n",
    "    f = lambda s: 1 - s - recovery(s, R0, n)\n",
    "    Df = lambda s: 1/(s*R0(s)) - 1\n",
    "\n",
    "    approx = newton(f,Df,s_guess,1e-15,iterations)\n",
    "    return approx\n",
    "\n",
    "def R0_3(s):\n",
    "    return 4 + 0*s\n",
    "\n",
    "susceptible_final(R0_3, 0.01)"
   ],
   "metadata": {
    "collapsed": false,
    "pycharm": {
     "name": "#%%\n"
    }
   }
  },
  {
   "cell_type": "code",
   "execution_count": 7,
   "outputs": [
    {
     "data": {
      "text/plain": "(0.25, 0.40342640301079824)"
     },
     "execution_count": 7,
     "metadata": {},
     "output_type": "execute_result"
    }
   ],
   "source": [
    "def infection_max(R0,s_guss,ds=1e-3,iteration=50):\n",
    "\n",
    "    f = lambda s: s*R0(s) - 1\n",
    "    df = lambda s: R0(s) + s*((R0(s+ds)-R0(s-ds))/(2*ds))\n",
    "\n",
    "    approx = newton(f,df,s_guss,1e-15,iteration)\n",
    "    i = 1 - approx - recovery(approx, R0, n=101)\n",
    "    return approx, i\n",
    "\n",
    "def R0_4(s):\n",
    "    return 4 + 0*s\n",
    "\n",
    "infection_max(R0_4,0.5)"
   ],
   "metadata": {
    "collapsed": false,
    "pycharm": {
     "name": "#%%\n"
    }
   }
  },
  {
   "cell_type": "code",
   "execution_count": 8,
   "outputs": [
    {
     "name": "stdout",
     "output_type": "stream",
     "text": [
      "0.019827396052199974\n",
      "-3.4673156822138685e-10\n"
     ]
    }
   ],
   "source": [
    "# task 1\n",
    "\n",
    "def SIRModel(t,R0,i0=1e-6):\n",
    "\n",
    "    s0 = 1.0 - i0\n",
    "\n",
    "    def diff(ini,t):\n",
    "        s,i = ini\n",
    "        return - R0(s,i,t) * s * i, R0(s,i,t) * s * i - i\n",
    "\n",
    "    result = odeint(diff,y0=[s0,i0],t=t)\n",
    "    return np.array(result[:,0]),np.array(result[:,1])\n",
    "\n",
    "\n",
    "t = np.linspace(0,30,200)\n",
    "\n",
    "def R0_5(s,i,t):\n",
    "    return 4 + 0*s\n",
    "\n",
    "s,i = SIRModel(t,R0_5)\n",
    "print(s[-1])\n",
    "print(i[-1])\n",
    "# s[-1]"
   ],
   "metadata": {
    "collapsed": false,
    "pycharm": {
     "name": "#%%\n"
    }
   }
  },
  {
   "cell_type": "code",
   "execution_count": 9,
   "outputs": [
    {
     "data": {
      "text/plain": "<Figure size 432x288 with 1 Axes>",
      "image/png": "[encoded data removed]"
     },
     "metadata": {
      "needs_background": "light"
     },
     "output_type": "display_data"
    },
    {
     "data": {
      "text/plain": "<Figure size 432x288 with 1 Axes>",
      "image/png": "[encoded data removed]"
     },
     "metadata": {
      "needs_background": "light"
     },
     "output_type": "display_data"
    }
   ],
   "source": [
    "def multi_bump_R0(s,i):\n",
    "    return 4*(1-9*(1-s)*s**4)\n",
    "t = np.linspace(0,30,100)\n",
    "s,i = SIRModel(t,R0_5)\n",
    "\n",
    "r = recovery(s,R0_1,n=101)\n",
    "\n",
    "plt.plot(t,s,label=\"s\")\n",
    "plt.plot(t,i,label=\"i\")\n",
    "plt.plot(t,r,label=\"t\")\n",
    "plt.grid()\n",
    "plt.show()\n",
    "\n",
    "plt.plot(s,multi_bump_R0(s,i))\n",
    "plt.grid()\n",
    "plt.show()\n",
    "\n",
    "\n",
    "\n"
   ],
   "metadata": {
    "collapsed": false,
    "pycharm": {
     "name": "#%%\n"
    }
   }
  }
 ],
 "metadata": {
  "kernelspec": {
   "name": "py39kernel",
   "language": "python",
   "display_name": "py39kernel"
  },
  "language_info": {
   "codemirror_mode": {
    "name": "ipython",
    "version": 2
   },
   "file_extension": ".py",
   "mimetype": "text/x-python",
   "name": "python",
   "nbconvert_exporter": "python",
   "pygments_lexer": "ipython2",
   "version": "2.7.6"
  }
 },
 "nbformat": 4,
 "nbformat_minor": 0
}