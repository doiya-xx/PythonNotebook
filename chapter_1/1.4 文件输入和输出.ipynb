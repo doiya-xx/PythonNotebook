{
 "cells": [
  {
   "cell_type": "markdown",
   "metadata": {
    "collapsed": true,
    "pycharm": {
     "name": "#%% md\n"
    }
   },
   "source": [
    "## 1.4 文件输入和输出"
   ]
  },
  {
   "cell_type": "code",
   "execution_count": 1,
   "outputs": [
    {
     "name": "stdout",
     "output_type": "stream",
     "text": [
      "<_io.TextIOWrapper name='foo.txt' mode='r' encoding='cp936'>\n",
      "Hello World!"
     ]
    }
   ],
   "source": [
    "# 以下程序可打开一个文件并逐行读取该文件的内容\n",
    "# 返回一个文件对象\n",
    "f = open(\"foo.txt\")\n",
    "print(f)\n",
    "# 调用文件的 readline() 方法\n",
    "line = f.readline()\n",
    "while line:\n",
    "    # python 2 后面跟 ',' 将忽略换行符\n",
    "    # python 3 中使用\n",
    "    print(line, end='')\n",
    "    line = f.readline()\n",
    "f.close()"
   ],
   "metadata": {
    "collapsed": false,
    "pycharm": {
     "name": "#%%\n"
    }
   }
  },
  {
   "cell_type": "code",
   "execution_count": 2,
   "outputs": [],
   "source": [
    "principal = 1000\n",
    "rate = 0.05\n",
    "numyears = 5\n",
    "year = 1\n",
    "# 打开文件以便写入\n",
    "f = open(\"out.txt\", \"w\")\n",
    "while year <= numyears:\n",
    "    principal = principal * (1 + rate)\n",
    "    f.write(\"{0:3d} {1:0.2f}\\n\".format(year,principal))\n",
    "    year += 1\n",
    "f.close()"
   ],
   "metadata": {
    "collapsed": false,
    "pycharm": {
     "name": "#%%\n"
    }
   }
  },
  {
   "cell_type": "code",
   "execution_count": 2,
   "outputs": [],
   "source": [],
   "metadata": {
    "collapsed": false,
    "pycharm": {
     "name": "#%%\n"
    }
   }
  }
 ],
 "metadata": {
  "kernelspec": {
   "name": "py39kernel",
   "language": "python",
   "display_name": "py39kernel"
  },
  "language_info": {
   "codemirror_mode": {
    "name": "ipython",
    "version": 2
   },
   "file_extension": ".py",
   "mimetype": "text/x-python",
   "name": "python",
   "nbconvert_exporter": "python",
   "pygments_lexer": "ipython2",
   "version": "2.7.6"
  }
 },
 "nbformat": 4,
 "nbformat_minor": 0
}