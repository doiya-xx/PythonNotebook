{
 "cells": [
  {
   "cell_type": "markdown",
   "metadata": {
    "collapsed": true,
    "pycharm": {
     "name": "#%% md\n"
    }
   },
   "source": [
    "## 1.6 列表\n",
    "\n",
    "列表是任意对象组成的序列。\n",
    "\n",
    "`[]`\n",
    "\n",
    "把值放入 `[]` 就可以"
   ]
  },
  {
   "cell_type": "code",
   "execution_count": 1,
   "outputs": [],
   "source": [
    "names = [\"Dave\", \"Mark\", \"Ann\", \"Phil\"]"
   ],
   "metadata": {
    "collapsed": false,
    "pycharm": {
     "name": "#%%\n"
    }
   }
  },
  {
   "cell_type": "code",
   "execution_count": 2,
   "outputs": [],
   "source": [
    "# 整数索引\n",
    "a = names[2]\n",
    "# 访问并修改\n",
    "names[0] = \"Jeff\""
   ],
   "metadata": {
    "collapsed": false,
    "pycharm": {
     "name": "#%%\n"
    }
   }
  },
  {
   "cell_type": "code",
   "execution_count": 3,
   "outputs": [],
   "source": [
    "# 列表末尾追加新项\n",
    "names.append(\"Paula\")"
   ],
   "metadata": {
    "collapsed": false,
    "pycharm": {
     "name": "#%%\n"
    }
   }
  },
  {
   "cell_type": "code",
   "execution_count": 4,
   "outputs": [],
   "source": [
    "# 插入列表\n",
    "names.insert(2, \"Thomas\")"
   ],
   "metadata": {
    "collapsed": false,
    "pycharm": {
     "name": "#%%\n"
    }
   }
  },
  {
   "cell_type": "code",
   "execution_count": 5,
   "outputs": [],
   "source": [
    "# 切片提取子列表\n",
    "b = names[0:2]\n",
    "c = names[2:]\n",
    "# 切片赋值\n",
    "names[0:2] = [\"Dave\", \"Mark\", \"Jeff\"]"
   ],
   "metadata": {
    "collapsed": false,
    "pycharm": {
     "name": "#%%\n"
    }
   }
  },
  {
   "cell_type": "code",
   "execution_count": 6,
   "outputs": [],
   "source": [
    "# + 连接列表\n",
    "a = [1, 2, 3]+[4, 5]"
   ],
   "metadata": {
    "collapsed": false,
    "pycharm": {
     "name": "#%%\n"
    }
   }
  },
  {
   "cell_type": "code",
   "execution_count": 7,
   "outputs": [],
   "source": [
    "# 创建空列表\n",
    "names = []\n",
    "names = list()"
   ],
   "metadata": {
    "collapsed": false,
    "pycharm": {
     "name": "#%%\n"
    }
   }
  },
  {
   "cell_type": "code",
   "execution_count": 8,
   "outputs": [],
   "source": [
    "# 嵌套\n",
    "a = [1, \"Dave\", 3.14, [\"Mark\", 7, 9, [100, 101]], 10]"
   ],
   "metadata": {
    "collapsed": false,
    "pycharm": {
     "name": "#%%\n"
    }
   }
  },
  {
   "cell_type": "code",
   "execution_count": 9,
   "outputs": [
    {
     "data": {
      "text/plain": "101"
     },
     "execution_count": 9,
     "metadata": {},
     "output_type": "execute_result"
    }
   ],
   "source": [
    "# 嵌套访问\n",
    "a[1]\n",
    "a[3][2]\n",
    "a[3][3][1]"
   ],
   "metadata": {
    "collapsed": false,
    "pycharm": {
     "name": "#%%\n"
    }
   }
  },
  {
   "cell_type": "code",
   "execution_count": null,
   "outputs": [],
   "source": [
    "# 列表的高级特性\n",
    "import sys\n",
    "# 检查命令行参数的数量\n",
    "if len(sys.argv) != 2:\n",
    "    print(\"Please supply a filename\")\n",
    "    raise SystemExit(1)\n",
    "f = open(sys.argv[1])\n",
    "# 将所有行读取到一个列表\n",
    "lines = f.readlines()\n",
    "f.closel()\n",
    "\n",
    "# 将所有输入值从字符串转换为浮点数\n",
    "fvalues = [float(line) for line in lines]\n",
    "\n",
    "# 打印最小值和最大值\n",
    "print(\"The minimum value is \", min(fvalues))\n",
    "print(\"The maximum value is \", max(fvalues))"
   ],
   "metadata": {
    "collapsed": false,
    "pycharm": {
     "name": "#%%\n"
    }
   }
  }
 ],
 "metadata": {
  "kernelspec": {
   "name": "py39kernel",
   "language": "python",
   "display_name": "py39kernel"
  },
  "language_info": {
   "codemirror_mode": {
    "name": "ipython",
    "version": 2
   },
   "file_extension": ".py",
   "mimetype": "text/x-python",
   "name": "python",
   "nbconvert_exporter": "python",
   "pygments_lexer": "ipython2",
   "version": "2.7.6"
  }
 },
 "nbformat": 4,
 "nbformat_minor": 0
}