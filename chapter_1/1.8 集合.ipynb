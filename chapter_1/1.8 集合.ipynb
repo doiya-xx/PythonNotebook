{
 "cells": [
  {
   "cell_type": "markdown",
   "metadata": {
    "collapsed": true,
    "pycharm": {
     "name": "#%% md\n"
    }
   },
   "source": [
    "## 1.8 集合\n",
    "\n",
    "集合用于包含一组无序的对象\n",
    "\n",
    "无序的，也不重复的\n",
    "\n",
    "set()"
   ]
  },
  {
   "cell_type": "code",
   "execution_count": 10,
   "outputs": [
    {
     "name": "stdout",
     "output_type": "stream",
     "text": [
      "{9, 10, 3, 5}\n",
      "<class 'set'>\n",
      "{9, 10, 3, 5}\n",
      "<class 'set'>\n",
      "{1, 2, 3}\n",
      "{'e', 'l', 'o', 'H'}\n",
      "<class 'set'>\n",
      "{'Hello'}\n",
      "<class 'set'>\n"
     ]
    }
   ],
   "source": [
    "# s = set([3,5,9,10])\n",
    "# set() 函数的写法好像被淘汰了 用 {} 代替\n",
    "s = set([3,5,9,10])\n",
    "print(s)\n",
    "print(type(s))\n",
    "a = {3, 5, 9, 10}\n",
    "print(a)\n",
    "print(type(a))\n",
    "# 老写法要用列表，新写法不用列表，也不能用列表\n",
    "\n",
    "g = {1,2,3}\n",
    "print(g)\n",
    "\n",
    "t = set(\"Hello\")\n",
    "print(t)\n",
    "print(type(t))\n",
    "b = {\"Hello\"}\n",
    "print(b)\n",
    "print(type(b))"
   ],
   "metadata": {
    "collapsed": false,
    "pycharm": {
     "name": "#%%\n"
    }
   }
  },
  {
   "cell_type": "code",
   "execution_count": 11,
   "outputs": [],
   "source": [
    "# 支持交集，并集，差集和对称差集\n",
    "a = t | s\n",
    "b = t & s\n",
    "c = t - s\n",
    "d = t ^ s"
   ],
   "metadata": {
    "collapsed": false,
    "pycharm": {
     "name": "#%%\n"
    }
   }
  },
  {
   "cell_type": "code",
   "execution_count": 12,
   "outputs": [],
   "source": [
    "# 添加 add() update()\n",
    "t.add('x')\n",
    "s.update([10,37,42])\n",
    "\n",
    "# 删除\n",
    "t.remove('H')"
   ],
   "metadata": {
    "collapsed": false,
    "pycharm": {
     "name": "#%%\n"
    }
   }
  },
  {
   "cell_type": "code",
   "execution_count": null,
   "outputs": [],
   "source": [],
   "metadata": {
    "collapsed": false,
    "pycharm": {
     "name": "#%%\n"
    }
   }
  }
 ],
 "metadata": {
  "kernelspec": {
   "name": "py39kernel",
   "language": "python",
   "display_name": "py39kernel"
  },
  "language_info": {
   "codemirror_mode": {
    "name": "ipython",
    "version": 2
   },
   "file_extension": ".py",
   "mimetype": "text/x-python",
   "name": "python",
   "nbconvert_exporter": "python",
   "pygments_lexer": "ipython2",
   "version": "2.7.6"
  }
 },
 "nbformat": 4,
 "nbformat_minor": 0
}