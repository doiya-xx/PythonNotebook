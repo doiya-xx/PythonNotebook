{
 "cells": [
  {
   "cell_type": "markdown",
   "metadata": {
    "collapsed": true,
    "pycharm": {
     "name": "#%% md\n"
    }
   },
   "source": [
    "## 1.2 变量和算术表达式"
   ]
  },
  {
   "cell_type": "code",
   "execution_count": 1,
   "outputs": [
    {
     "name": "stdout",
     "output_type": "stream",
     "text": [
      "1 1050.0\n",
      "2 1102.5\n",
      "3 1157.625\n",
      "4 1215.5062500000001\n",
      "5 1276.2815625000003\n"
     ]
    }
   ],
   "source": [
    "# 简单的复利计算\n",
    "# 初始金额\n",
    "principal = 1000\n",
    "# 利率\n",
    "rate = 0.05\n",
    "# 年数\n",
    "numyears = 5\n",
    "year = 1\n",
    "while year <= numyears:\n",
    "    principal = principal * (1 + rate)\n",
    "    print(year, principal)\n",
    "    year += 1"
   ],
   "metadata": {
    "collapsed": false,
    "pycharm": {
     "name": "#%%\n"
    }
   }
  },
  {
   "cell_type": "code",
   "execution_count": 2,
   "outputs": [
    {
     "name": "stdout",
     "output_type": "stream",
     "text": [
      "  1 1050.00\n",
      "  2 1102.50\n",
      "  3 1157.62\n",
      "  4 1215.51\n",
      "  5 1276.28\n"
     ]
    }
   ],
   "source": [
    "principal = 1000\n",
    "rate = 0.05\n",
    "numyears = 5\n",
    "year = 1\n",
    "while year <= numyears:\n",
    "    principal = principal * (1 + rate)\n",
    "    print(\"%3d %0.2f\"%(year, principal))\n",
    "    year += 1"
   ],
   "metadata": {
    "collapsed": false,
    "pycharm": {
     "name": "#%%\n"
    }
   }
  },
  {
   "cell_type": "code",
   "execution_count": 3,
   "outputs": [
    {
     "name": "stdout",
     "output_type": "stream",
     "text": [
      "  1 1050.00\n",
      "  2 1102.50\n",
      "  3 1157.62\n",
      "  4 1215.51\n",
      "  5 1276.28\n"
     ]
    }
   ],
   "source": [
    "principal = 1000\n",
    "rate = 0.05\n",
    "numyears = 5\n",
    "year = 1\n",
    "while year <= numyears:\n",
    "    principal = principal * (1 + rate)\n",
    "    print(format(year, \"3d\"), format(principal, \"0.2f\"))\n",
    "    year += 1"
   ],
   "metadata": {
    "collapsed": false,
    "pycharm": {
     "name": "#%%\n"
    }
   }
  },
  {
   "cell_type": "code",
   "execution_count": 4,
   "outputs": [
    {
     "name": "stdout",
     "output_type": "stream",
     "text": [
      "  1 1050.00\n",
      "  2 1102.50\n",
      "  3 1157.62\n",
      "  4 1215.51\n",
      "  5 1276.28\n"
     ]
    }
   ],
   "source": [
    "principal = 1000\n",
    "rate = 0.05\n",
    "numyears = 5\n",
    "year = 1\n",
    "while year <= numyears:\n",
    "    principal = principal * (1 + rate)\n",
    "    print(\"{0:3d} {1:0.2f}\".format(year,principal))\n",
    "    year += 1"
   ],
   "metadata": {
    "collapsed": false,
    "pycharm": {
     "name": "#%%\n"
    }
   }
  }
 ],
 "metadata": {
  "kernelspec": {
   "name": "py39kernel",
   "language": "python",
   "display_name": "py39kernel"
  },
  "language_info": {
   "codemirror_mode": {
    "name": "ipython",
    "version": 2
   },
   "file_extension": ".py",
   "mimetype": "text/x-python",
   "name": "python",
   "nbconvert_exporter": "python",
   "pygments_lexer": "ipython2",
   "version": "2.7.6"
  }
 },
 "nbformat": 4,
 "nbformat_minor": 0
}