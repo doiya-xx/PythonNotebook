{
 "cells": [
  {
   "cell_type": "markdown",
   "metadata": {
    "collapsed": true,
    "pycharm": {
     "name": "#%% md\n"
    }
   },
   "source": [
    "## 1.5 字符串"
   ]
  },
  {
   "cell_type": "code",
   "execution_count": 2,
   "outputs": [],
   "source": [
    "# 单引号和双引号指定的字符串必须在一个逻辑行上\n",
    "a = \"Hello World\"\n",
    "b = 'Python is groovy'\n",
    "# 两个三引号之间出现的所有文本都视为字符串的内容\n",
    "c = '''a\n",
    "b\n",
    "c'''"
   ],
   "metadata": {
    "collapsed": false,
    "pycharm": {
     "name": "#%%\n"
    }
   }
  },
  {
   "cell_type": "code",
   "execution_count": 3,
   "outputs": [],
   "source": [
    "# 字符串存储在一个字符序列中，这个字符序列使用整数作为索引\n",
    "a = \"Hello World\"\n",
    "# b = '0'\n",
    "b = a[4]"
   ],
   "metadata": {
    "collapsed": false,
    "pycharm": {
     "name": "#%%\n"
    }
   }
  },
  {
   "cell_type": "code",
   "execution_count": 4,
   "outputs": [],
   "source": [
    "# 提取一个子字符串，可以使用切片\n",
    "# c = \"Hello\"\n",
    "c = a[:5]\n",
    "# d = \"World\"\n",
    "d = a[6:]\n",
    "# e = lo Wo\n",
    "e = a[3:8]"
   ],
   "metadata": {
    "collapsed": false,
    "pycharm": {
     "name": "#%%\n"
    }
   }
  },
  {
   "cell_type": "code",
   "execution_count": 5,
   "outputs": [],
   "source": [
    "# + 连接两个字符串\n",
    "g = a + \"This is a test\""
   ],
   "metadata": {
    "collapsed": false,
    "pycharm": {
     "name": "#%%\n"
    }
   }
  },
  {
   "cell_type": "code",
   "execution_count": 6,
   "outputs": [],
   "source": [
    "# Python 不会把字符串的内容隐式地解释为数值数据\n",
    "x = \"37\"\n",
    "y = \"42\"\n",
    "# z = \"3742\" (字符串连接)\n",
    "z = x + y\n",
    "# z = 79 (整数求和)\n",
    "z = int(x) + int(y)"
   ],
   "metadata": {
    "collapsed": false,
    "pycharm": {
     "name": "#%%\n"
    }
   }
  },
  {
   "cell_type": "code",
   "execution_count": 7,
   "outputs": [
    {
     "name": "stdout",
     "output_type": "stream",
     "text": [
      "3.4\n",
      "3.4\n",
      "3.40000\n"
     ]
    }
   ],
   "source": [
    "# 使用 str() repr() format()函数可以将非字符串值转换为字符串表示形式\n",
    "x = 3.4\n",
    "print(str(x))\n",
    "# 对象精确值的字符串\n",
    "print(repr(x))\n",
    "# 可以转换特定格式\n",
    "print(format(x,\"0.5f\"))"
   ],
   "metadata": {
    "collapsed": false,
    "pycharm": {
     "name": "#%%\n"
    }
   }
  },
  {
   "cell_type": "code",
   "execution_count": null,
   "outputs": [],
   "source": [],
   "metadata": {
    "collapsed": false,
    "pycharm": {
     "name": "#%%\n"
    }
   }
  }
 ],
 "metadata": {
  "kernelspec": {
   "name": "py39kernel",
   "language": "python",
   "display_name": "py39kernel"
  },
  "language_info": {
   "codemirror_mode": {
    "name": "ipython",
    "version": 2
   },
   "file_extension": ".py",
   "mimetype": "text/x-python",
   "name": "python",
   "nbconvert_exporter": "python",
   "pygments_lexer": "ipython2",
   "version": "2.7.6"
  }
 },
 "nbformat": 4,
 "nbformat_minor": 0
}