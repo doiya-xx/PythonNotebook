{
 "cells": [
  {
   "cell_type": "markdown",
   "metadata": {
    "collapsed": true,
    "pycharm": {
     "name": "#%% md\n"
    }
   },
   "source": [
    "## 1.7 元组\n",
    "\n",
    "`()`"
   ]
  },
  {
   "cell_type": "code",
   "execution_count": 11,
   "outputs": [],
   "source": [
    "# 创建\n",
    "stock = 'GOOG', 100, 490.10\n",
    "\n",
    "address = ('www.python.org', 80)\n",
    "\n",
    "# 0 元组（空元组）\n",
    "a = ()\n",
    "a = tuple()\n",
    "# 1 元组\n",
    "b = (10,)\n",
    "c = 11,\n",
    "\n",
    "dd = ['GOOG', 100, 490.10]"
   ],
   "metadata": {
    "collapsed": false,
    "pycharm": {
     "name": "#%%\n"
    }
   }
  },
  {
   "cell_type": "code",
   "execution_count": 12,
   "outputs": [
    {
     "name": "stdout",
     "output_type": "stream",
     "text": [
      "100\n"
     ]
    }
   ],
   "source": [
    "# 可以用索引获取元组中的值\n",
    "print(stock[1])\n",
    "\n",
    "# 更常见的是，将元组解包为一组变量\n",
    "name, shares, price = stock\n",
    "host, port = address"
   ],
   "metadata": {
    "collapsed": false,
    "pycharm": {
     "name": "#%%\n"
    }
   }
  },
  {
   "cell_type": "code",
   "execution_count": 13,
   "outputs": [
    {
     "name": "stdout",
     "output_type": "stream",
     "text": [
      "('GOOG', 100)\n",
      "('GOOG', 100, 490.1, 'www.python.org', 80)\n"
     ]
    }
   ],
   "source": [
    "# 元组支持切片和连接\n",
    "print(stock[:2])\n",
    "print(stock+address)\n",
    "\n",
    "# 但是，元组创建后，不能修改内容：替换，删除，添加都不可以"
   ],
   "metadata": {
    "collapsed": false,
    "pycharm": {
     "name": "#%%\n"
    }
   }
  },
  {
   "cell_type": "code",
   "execution_count": 15,
   "outputs": [
    {
     "name": "stdout",
     "output_type": "stream",
     "text": [
      "<_io.TextIOWrapper name='portfolio.csv' mode='r' encoding='cp936'>\n",
      "'GOOG',100,490.10\n",
      "\n",
      "<_io.TextIOWrapper name='portfolio.csv' mode='r' encoding='cp936'>\n",
      "'MSFT',50,54.23\n",
      "[(\"'GOOG'\", 100, 490.1), (\"'MSFT'\", 50, 54.23)]\n"
     ]
    }
   ],
   "source": [
    "# 如何读取包含不同数据列且各数据列由逗号隔开的文件\n",
    "filename = \"portfolio.csv\"\n",
    "portfolio = []\n",
    "for line in open(filename):\n",
    "    # 将每行划分为一个列表\n",
    "    fields = line.split(\",\")\n",
    "    # 提取并转换每个字段\n",
    "    name = fields[0]\n",
    "    shares = int(fields[1])\n",
    "    price = float(fields[2])\n",
    "    # 创建一个元组\n",
    "    stock = (name, shares, price)\n",
    "    portfolio.append(stock)\n",
    "print(portfolio)"
   ],
   "metadata": {
    "collapsed": false,
    "pycharm": {
     "name": "#%%\n"
    }
   }
  },
  {
   "cell_type": "code",
   "execution_count": 17,
   "outputs": [
    {
     "name": "stdout",
     "output_type": "stream",
     "text": [
      "51721.5\n"
     ]
    }
   ],
   "source": [
    "total = 0.0\n",
    "for name, shares, price in portfolio:\n",
    "    total += shares * price\n",
    "print(total)"
   ],
   "metadata": {
    "collapsed": false,
    "pycharm": {
     "name": "#%%\n"
    }
   }
  },
  {
   "cell_type": "code",
   "execution_count": null,
   "outputs": [],
   "source": [],
   "metadata": {
    "collapsed": false,
    "pycharm": {
     "name": "#%%\n"
    }
   }
  }
 ],
 "metadata": {
  "kernelspec": {
   "name": "py39kernel",
   "language": "python",
   "display_name": "py39kernel"
  },
  "language_info": {
   "codemirror_mode": {
    "name": "ipython",
    "version": 2
   },
   "file_extension": ".py",
   "mimetype": "text/x-python",
   "name": "python",
   "nbconvert_exporter": "python",
   "pygments_lexer": "ipython2",
   "version": "2.7.6"
  }
 },
 "nbformat": 4,
 "nbformat_minor": 0
}