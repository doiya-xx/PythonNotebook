{
 "cells": [
  {
   "cell_type": "markdown",
   "metadata": {
    "collapsed": true,
    "pycharm": {
     "name": "#%% md\n"
    }
   },
   "source": [
    "## 1.10 迭代与循环\n",
    "\n",
    "最常用的循环结构是 for 语句，它可以用来对容器成员进行迭代操作"
   ]
  },
  {
   "cell_type": "code",
   "execution_count": 2,
   "outputs": [
    {
     "name": "stdout",
     "output_type": "stream",
     "text": [
      "2 to the 1 power is 2\n",
      "2 to the 2 power is 4\n",
      "2 to the 3 power is 8\n",
      "2 to the 4 power is 16\n",
      "2 to the 5 power is 32\n",
      "2 to the 6 power is 64\n",
      "2 to the 7 power is 128\n",
      "2 to the 8 power is 256\n",
      "2 to the 9 power is 512\n"
     ]
    }
   ],
   "source": [
    "for n in [1,2,3,4,5,6,7,8,9]:\n",
    "    print(\"2 to the %d power is %d\"%(n, 2**n))"
   ],
   "metadata": {
    "collapsed": false,
    "pycharm": {
     "name": "#%%\n"
    }
   }
  },
  {
   "cell_type": "code",
   "execution_count": 2,
   "outputs": [
    {
     "name": "stdout",
     "output_type": "stream",
     "text": [
      "2 to the 1 power is 2\n",
      "2 to the 2 power is 4\n",
      "2 to the 3 power is 8\n",
      "2 to the 4 power is 16\n",
      "2 to the 5 power is 32\n",
      "2 to the 6 power is 64\n",
      "2 to the 7 power is 128\n",
      "2 to the 8 power is 256\n",
      "2 to the 9 power is 512\n"
     ]
    }
   ],
   "source": [
    "for n in range(1,10):\n",
    "    print(\"2 to the %d power is %d\"%(n, 2**n))"
   ],
   "metadata": {
    "collapsed": false,
    "pycharm": {
     "name": "#%%\n"
    }
   }
  },
  {
   "cell_type": "code",
   "execution_count": 3,
   "outputs": [],
   "source": [
    "# range(i, j, [, 步长])\n",
    "# 表示值在 i 到 j-1 之间的整数范围，如果 i 被省略，则默认为 0\n",
    "a = range(5)            # a = 0,1,2,3,4\n",
    "b = range(1,8)          # b = 1,2,3,4,5,6,7\n",
    "c = range(0,14,3)       # c = 0,3,6,9,12\n",
    "d = range(8,1,-1)       # d = 8,7,6,5,4,3,2"
   ],
   "metadata": {
    "collapsed": false,
    "pycharm": {
     "name": "#%%\n"
    }
   }
  },
  {
   "cell_type": "code",
   "execution_count": 4,
   "outputs": [
    {
     "name": "stdout",
     "output_type": "stream",
     "text": [
      "H\n",
      "e\n",
      "l\n",
      "l\n",
      "o\n",
      " \n",
      "W\n",
      "o\n",
      "r\n",
      "l\n",
      "d\n",
      "Dave\n",
      "Mark\n",
      "Ann\n",
      "Phil\n",
      "GOOG 490.1\n",
      "IBM 91.5\n",
      "AAPL 123.15\n",
      "Hello World!\n"
     ]
    }
   ],
   "source": [
    "# 还可以迭代多种对象\n",
    "# 字符串\n",
    "a = \"Hello World\"\n",
    "# 打印每一个字符\n",
    "for c in a:\n",
    "    print(c)\n",
    "\n",
    "# 列表\n",
    "b = [\"Dave\",\"Mark\",\"Ann\",\"Phil\"]\n",
    "# 打印每一个成员\n",
    "for name in b:\n",
    "    print(name)\n",
    "\n",
    "# 字典\n",
    "c = {'GOOG':490.1, 'IBM':91.50, 'AAPL':123.15}\n",
    "# 打印字典每一个键对于的值\n",
    "for key in c:\n",
    "    print(key, c[key])\n",
    "\n",
    "f = open(\"foo.txt\")\n",
    "# 打印一个文件中所有行\n",
    "for line in f:\n",
    "    print(line)"
   ],
   "metadata": {
    "collapsed": false,
    "pycharm": {
     "name": "#%%\n"
    }
   }
  },
  {
   "cell_type": "code",
   "execution_count": null,
   "outputs": [],
   "source": [],
   "metadata": {
    "collapsed": false,
    "pycharm": {
     "name": "#%%\n"
    }
   }
  }
 ],
 "metadata": {
  "kernelspec": {
   "name": "py39kernel",
   "language": "python",
   "display_name": "py39kernel"
  },
  "language_info": {
   "codemirror_mode": {
    "name": "ipython",
    "version": 2
   },
   "file_extension": ".py",
   "mimetype": "text/x-python",
   "name": "python",
   "nbconvert_exporter": "python",
   "pygments_lexer": "ipython2",
   "version": "2.7.6"
  }
 },
 "nbformat": 4,
 "nbformat_minor": 0
}